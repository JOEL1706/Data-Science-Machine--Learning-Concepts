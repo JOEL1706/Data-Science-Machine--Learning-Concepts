{
  "nbformat": 4,
  "nbformat_minor": 0,
  "metadata": {
    "colab": {
      "provenance": [],
      "authorship_tag": "ABX9TyOsfe6bSxey0shcCFJ/pRkW",
      "include_colab_link": true
    },
    "kernelspec": {
      "name": "python3",
      "display_name": "Python 3"
    },
    "language_info": {
      "name": "python"
    }
  },
  "cells": [
    {
      "cell_type": "markdown",
      "metadata": {
        "id": "view-in-github",
        "colab_type": "text"
      },
      "source": [
        "<a href=\"https://colab.research.google.com/github/JOEL1706/data-Science/blob/main/Hypothesis_Testing_assign.ipynb\" target=\"_parent\"><img src=\"https://colab.research.google.com/assets/colab-badge.svg\" alt=\"Open In Colab\"/></a>"
      ]
    },
    {
      "cell_type": "markdown",
      "source": [
        "#Define hypothesis Testing\n",
        "\n",
        "###(H0): The true mean weekly cost is less than or equal to theoretical mean (no increase)\n",
        "###(H1): The true mean weekly cost is greater than the theoretical mean ( costs have increased)"
      ],
      "metadata": {
        "id": "dwXiabm6IX_5"
      }
    },
    {
      "cell_type": "code",
      "execution_count": null,
      "metadata": {
        "id": "xjfYur8uHBIT"
      },
      "outputs": [],
      "source": [
        "import pandas as pd\n",
        "import numpy as np\n",
        "import scipy.stats as stats"
      ]
    },
    {
      "cell_type": "markdown",
      "source": [],
      "metadata": {
        "id": "hKi4237N2omZ"
      }
    },
    {
      "cell_type": "markdown",
      "source": [
        "##Calculate the Test Statistic:(calculated value):\n",
        "\n",
        "##\tˉxˉ = sample mean weekly cost (Rs. 3,050)\n",
        "##\tμ = theoretical mean weekly cost according to the cost model (W = $1,000 + $5X for X = 600 units)=4000\n",
        "#\tσ = 125 units\n",
        "#\tn = sample size (25 restaurants)\n"
      ],
      "metadata": {
        "id": "a3wj71mJJwiv"
      }
    },
    {
      "cell_type": "code",
      "source": [
        "#calculated value\n",
        "calculated=(3050-4000)/(125/np.sqrt(25))\n",
        "calculated\n"
      ],
      "metadata": {
        "colab": {
          "base_uri": "https://localhost:8080/"
        },
        "id": "gNWRY2o0JlGB",
        "outputId": "703f3835-8544-40af-abdb-74a2c9b215fd"
      },
      "execution_count": null,
      "outputs": [
        {
          "output_type": "execute_result",
          "data": {
            "text/plain": [
              "-38.0"
            ]
          },
          "metadata": {},
          "execution_count": 3
        }
      ]
    },
    {
      "cell_type": "code",
      "source": [
        "#critical value\n",
        "critical= stats.norm.ppf(0.975)\n",
        "\n"
      ],
      "metadata": {
        "id": "erF1TUrZLmg5"
      },
      "execution_count": null,
      "outputs": []
    },
    {
      "cell_type": "code",
      "source": [
        "#decision and conclusion\n",
        "if calculated>critical:\n",
        "  print(\"Reject null hypothesis(H0) and Accept alternate hypothesis(H1), No strong Evidence to support the claim that weekly costs have increased \")\n",
        "else:\n",
        "  print(\"Reject alternate hypothesis(H1) and Accept null hypothesis(H0),  Evidence supports the claim that weekly costs have increased\")"
      ],
      "metadata": {
        "colab": {
          "base_uri": "https://localhost:8080/"
        },
        "id": "WQNIQC6-OdTl",
        "outputId": "4ccca436-551d-4697-e410-6d5b596a3fe6"
      },
      "execution_count": null,
      "outputs": [
        {
          "output_type": "stream",
          "name": "stdout",
          "text": [
            "Reject alternate hypothesis(H1) and Accept null hypothesis(H0),  Evidence supports the claim that weekly costs have increased\n"
          ]
        }
      ]
    },
    {
      "cell_type": "markdown",
      "source": [],
      "metadata": {
        "id": "TqrtOnA1OczW"
      }
    }
  ]
}